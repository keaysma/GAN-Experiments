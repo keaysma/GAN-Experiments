{
 "cells": [
  {
   "cell_type": "code",
   "execution_count": 1,
   "metadata": {},
   "outputs": [
    {
     "name": "stderr",
     "output_type": "stream",
     "text": [
      "Using TensorFlow backend.\n"
     ]
    }
   ],
   "source": [
    "import keras\n",
    "import numpy as np\n",
    "\n",
    "%matplotlib inline\n",
    "import matplotlib.pyplot as plt\n"
   ]
  },
  {
   "cell_type": "code",
   "execution_count": 2,
   "metadata": {},
   "outputs": [],
   "source": [
    "rawtext = ''\n",
    "for i in range(1, 4):\n",
    "    textfile = open('data/text/{}.txt'.format(i))\n",
    "    rawtext += textfile.read()\n",
    "    textfile.close()\n",
    "vectext = rawtext.split()"
   ]
  },
  {
   "cell_type": "code",
   "execution_count": 3,
   "metadata": {},
   "outputs": [],
   "source": [
    "import sklearn\n",
    "from sklearn.preprocessing import LabelEncoder\n",
    "from sklearn.preprocessing import LabelBinarizer"
   ]
  },
  {
   "cell_type": "code",
   "execution_count": 4,
   "metadata": {},
   "outputs": [
    {
     "data": {
      "text/plain": [
       "array(['(Machine', '(Python', '(Regional', '(Single', '(You', '(pandas',\n",
       "       '(which', 'After', 'All', 'At', 'Building', 'C)', 'Capstone',\n",
       "       'Commerce', 'Convolution', 'Cython', 'David', 'David,',\n",
       "       'Detection),', 'During', 'Faster', 'Following', 'Friday', 'From',\n",
       "       'GPU', 'Hall', 'Hall.', 'Hall.This', 'I', 'In', 'King', 'Learning',\n",
       "       'Look', 'MLND', 'Mason,', 'My', 'Nanodegree)', 'Network),',\n",
       "       'Neural', 'Once),', 'Only', 'Outside', 'R', 'R-CNN', 'R.',\n",
       "       'Retinanet', 'SSD', 'Shot', 'Some', 'TATSIAVI.The', 'The', 'This',\n",
       "       'Though', 'Throughout', 'Thursday', 'Tuesday', 'We', 'YOLO', 'a',\n",
       "       'able', 'about', 'accuracy', 'acquainted', 'activity.', 'all',\n",
       "       'also', 'ambiguous', 'amount', 'an', 'analysis', 'analysis.',\n",
       "       'analyze', 'and', 'arduous', 'are', 'around', 'as', 'aspect).',\n",
       "       'assets', 'assist', 'at', 'attending.', 'automobile', 'autonomous',\n",
       "       'available', 'background', 'background.', 'balance', 'based', 'be',\n",
       "       'become', 'been', 'being', 'between', 'both', 'built', 'but', 'by',\n",
       "       'calculations', 'can', 'card', 'chance', 'choice', 'choices',\n",
       "       'classification', 'classifications.', 'classifier.', 'classify',\n",
       "       'classify,', 'classifying', 'combined', 'coming', 'compete',\n",
       "       'compiled', 'computational', 'computer', 'confident',\n",
       "       'constructed', 'could', 'couple', 'creating', 'culminated',\n",
       "       'current', 'currently', 'cutting', 'data', 'data.', 'day', 'day,',\n",
       "       'decide', 'decided', 'deeper', 'department.', 'depreciated',\n",
       "       'detection', 'determining', 'develop', 'developed', 'developing',\n",
       "       'deviation', 'did', 'differences', 'difficulties', 'digging',\n",
       "       'discussion', 'divided', 'do', 'doing', 'done', 'drivers',\n",
       "       'driving', 'during', 'easy', 'edge', 'effectively,', 'end',\n",
       "       'engineering', 'environment', 'environments', 'existing',\n",
       "       'expectations.', 'experimenting', 'extract', 'facilities',\n",
       "       'fastest', 'feel', 'few', 'fields', 'finding', 'first', 'five',\n",
       "       'focus', 'focused', 'focusing', 'follow', 'follow,', 'following',\n",
       "       'for', 'formulated', 'formulating', 'found', 'foundation', 'frame',\n",
       "       'framework', 'from', 'getting', 'github', 'given', 'given.', 'go',\n",
       "       'goal', 'goals', 'good', 'graduate', 'graphics', 'greater',\n",
       "       'group', 'growing', 'had', 'has', 'have', 'help', 'helpful',\n",
       "       'hours', 'image', 'implementation,', 'implementation.',\n",
       "       'implementations', 'implemented', 'implementing', 'in', 'included',\n",
       "       'individual', 'individually.', 'information', 'installation',\n",
       "       'installed', 'into', 'introduced', 'introduction', 'introductory',\n",
       "       'is', 'issues', 'it', 'knowledge', 'knowledge.', 'lane', 'large',\n",
       "       'last', 'later', 'learning', 'led', 'left', 'lessons', 'libraries',\n",
       "       'lot', 'main', 'majors', 'majors.', 'making', 'material',\n",
       "       'material.', 'matplotlib', 'method', 'methods', 'methods.',\n",
       "       'minds.', 'models', 'most', 'new', 'next', 'not', 'number',\n",
       "       'object', 'objectives', 'objects', 'objects.', 'of', 'old', 'on',\n",
       "       'or', 'order', 'oriented', 'other', 'others', 'our', 'ourselves',\n",
       "       'out', 'outside', 'over', 'own', 'parts:', 'period.', 'periods',\n",
       "       'pipeline,', 'plan', 'planning', 'popular', 'portion', 'potential',\n",
       "       'practical', 'practices', 'preparing', 'presentations',\n",
       "       'presented', 'previous', 'process', 'processing', 'processing.',\n",
       "       'produced', 'professor', 'professors,', 'programming', 'progress',\n",
       "       'project', 'prospective,', 'provides', 'psychology', 'put',\n",
       "       'python', 'question', 'ran', 'reading', 'ready', 'realm',\n",
       "       'received.', 'recognition,', 'recognition.', 'recognize',\n",
       "       'reconviene', 'regarding', 'regressions.', 'regulations', 'relied',\n",
       "       'rendering', 'repo', 'report', 'requirements.', 'research',\n",
       "       'research,', 'resources', 'responsibilities', 'rest', 'results.',\n",
       "       'retinanet', 'retrain', 'revolves', 'routine', 'running', 'safety',\n",
       "       'schedule', 'science', 'script', 'second', 'segmented', 'set',\n",
       "       'should', 'simulation', 'simulator', 'single', 'situations',\n",
       "       'small', 'so', 'software', 'solid', 'solidifying', 'specific),',\n",
       "       'specifically', 'speed', 'standards', 'start', 'started',\n",
       "       'statistical', 'stay', 'step', 'student', 'studies', 'subset',\n",
       "       'success.', 'successful', 'summer.', 'task', 'technologies',\n",
       "       'tested', 'testing', 'that', 'that,', 'the', 'them', 'then',\n",
       "       'third', 'this', 'three', 'through', 'time', 'to', 'together',\n",
       "       'too', 'took', 'tool', 'tools', 'tools.', 'tough', 'towards',\n",
       "       'training', 'tried', 'trip', 'trying', 'two', 'understanding',\n",
       "       'unrecognized', 'until', 'up', 'us', 'use', 'use.', 'used',\n",
       "       'useful', 'uses', 'using', 'varying', 'vehicle', 'vehicles',\n",
       "       'vehicles.', 'verification', 'verify', 'very', 'video', 'videos',\n",
       "       'videos.', 'want', 'was', 'watching', 'we', 'week', 'week.',\n",
       "       'weeks.', 'well', 'well.', 'were', 'what', 'where', 'whether',\n",
       "       'which', 'while', 'who', 'will', 'with', 'workability', 'worked',\n",
       "       'working', 'works', 'workshop', 'workshop,', 'would', 'wrote',\n",
       "       'years.', '‘zip’'], dtype='<U16')"
      ]
     },
     "execution_count": 4,
     "metadata": {},
     "output_type": "execute_result"
    }
   ],
   "source": [
    "wordEnc = LabelEncoder()\n",
    "enctext = wordEnc.fit_transform(vectext)\n",
    "wordEnc.classes_"
   ]
  },
  {
   "cell_type": "code",
   "execution_count": 5,
   "metadata": {},
   "outputs": [],
   "source": [
    "from keras.models import Sequential\n",
    "from keras.layers.core import Dropout, Dense\n",
    "from keras.optimizers import SGD, Adam\n",
    "from sklearn.metrics import classification_report"
   ]
  },
  {
   "cell_type": "code",
   "execution_count": 6,
   "metadata": {},
   "outputs": [],
   "source": [
    "#First model - given n words, predict the next"
   ]
  },
  {
   "cell_type": "code",
   "execution_count": 6,
   "metadata": {},
   "outputs": [],
   "source": [
    "#Assemble data\n",
    "X = []\n",
    "Y = []\n",
    "n = 10\n",
    "for i in range(n, len(vectext)):\n",
    "    #print('{} <- {}'.format(enctext[i], enctext[i-n:i]))\n",
    "    X += [enctext[i-n:i]]\n",
    "    Y += [enctext[i]]\n",
    "X = np.array(X)\n",
    "Y = np.array(Y)"
   ]
  },
  {
   "cell_type": "code",
   "execution_count": 7,
   "metadata": {},
   "outputs": [],
   "source": [
    "yenc = LabelBinarizer()\n",
    "yb = yenc.fit_transform(Y)"
   ]
  },
  {
   "cell_type": "code",
   "execution_count": 8,
   "metadata": {},
   "outputs": [],
   "source": [
    "xb = np.array([yenc.transform(_) for _ in X])\n",
    "xb = xb.reshape(-1, xb.shape[1]*xb.shape[-1])"
   ]
  },
  {
   "cell_type": "code",
   "execution_count": 9,
   "metadata": {},
   "outputs": [
    {
     "data": {
      "text/plain": [
       "array([0, 0, 0, ..., 0, 0, 0])"
      ]
     },
     "execution_count": 9,
     "metadata": {},
     "output_type": "execute_result"
    }
   ],
   "source": [
    "xb[0]"
   ]
  },
  {
   "cell_type": "code",
   "execution_count": 328,
   "metadata": {},
   "outputs": [],
   "source": [
    "o = Sequential()\n",
    "o.add(Dense(1536, input_shape = (xb.shape[1],), activation = 'relu'))\n",
    "o.add(Dense(1024, activation='relu'))\n",
    "#o.add(Dropout(0.1))\n",
    "o.add(Dense(512, activation='relu'))\n",
    "o.add(Dense(yb.shape[1], activation='softmax'))"
   ]
  },
  {
   "cell_type": "code",
   "execution_count": 329,
   "metadata": {},
   "outputs": [],
   "source": [
    "initial_learningrate = 0.1\n",
    "_sgd = SGD(lr = initial_learningrate)\n",
    "o.compile(loss = \"categorical_crossentropy\", optimizer = _sgd, metrics=[\"accuracy\"])"
   ]
  },
  {
   "cell_type": "code",
   "execution_count": 330,
   "metadata": {},
   "outputs": [
    {
     "name": "stdout",
     "output_type": "stream",
     "text": [
      "Epoch 1/10\n",
      "323/323 [==============================] - 6s 20ms/step - loss: 5.0150 - acc: 0.0526\n",
      "Epoch 2/10\n",
      "323/323 [==============================] - 6s 17ms/step - loss: 4.7448 - acc: 0.0743\n",
      "Epoch 3/10\n",
      "323/323 [==============================] - 6s 17ms/step - loss: 4.4483 - acc: 0.0836\n",
      "Epoch 4/10\n",
      "323/323 [==============================] - 6s 17ms/step - loss: 3.9499 - acc: 0.1393\n",
      "Epoch 5/10\n",
      "323/323 [==============================] - 6s 17ms/step - loss: 3.2661 - acc: 0.2879\n",
      "Epoch 6/10\n",
      "323/323 [==============================] - 6s 17ms/step - loss: 2.4076 - acc: 0.5170\n",
      "Epoch 7/10\n",
      "323/323 [==============================] - 6s 17ms/step - loss: 1.5141 - acc: 0.7214\n",
      "Epoch 8/10\n",
      "323/323 [==============================] - 6s 17ms/step - loss: 0.7226 - acc: 0.9752\n",
      "Epoch 9/10\n",
      "323/323 [==============================] - 6s 18ms/step - loss: 0.1497 - acc: 1.0000\n",
      "Epoch 10/10\n",
      "323/323 [==============================] - 6s 17ms/step - loss: 0.0335 - acc: 1.0000\n"
     ]
    }
   ],
   "source": [
    "hist = o.fit(xb, yb, epochs=10, batch_size=4)"
   ]
  },
  {
   "cell_type": "code",
   "execution_count": 331,
   "metadata": {},
   "outputs": [
    {
     "data": {
      "text/plain": [
       "[<matplotlib.lines.Line2D at 0x7f85cbf652e8>]"
      ]
     },
     "execution_count": 331,
     "metadata": {},
     "output_type": "execute_result"
    },
    {
     "data": {
      "image/png": "[encoded data removed]",
      "text/plain": [
       "<Figure size 432x288 with 1 Axes>"
      ]
     },
     "metadata": {},
     "output_type": "display_data"
    }
   ],
   "source": [
    "plt.style.use(\"ggplot\")\n",
    "plt.plot(hist.history['loss'])"
   ]
  },
  {
   "cell_type": "code",
   "execution_count": 264,
   "metadata": {},
   "outputs": [
    {
     "name": "stdout",
     "output_type": "stream",
     "text": [
      "['was'] <- ['to', 'the', 'research', 'environment', 'that']\n"
     ]
    }
   ],
   "source": [
    "s = vectext[5:10]\n",
    "_x = yenc.transform(wordEnc.transform(s)).reshape(1, -1)\n",
    "_y = wordEnc.classes_[o.predict_classes(_x)]\n",
    "print('{} <- {}'.format(_y, s))"
   ]
  },
  {
   "cell_type": "code",
   "execution_count": 333,
   "metadata": {},
   "outputs": [
    {
     "name": "stdout",
     "output_type": "stream",
     "text": [
      "This week we were introduced to the research environment that * video what background with which focused next technologies We did methods our between image preparing material automobile verify done as methods outside technologies done week currently We formulating plan three technologies focused next was creating week and two summer. Throughout technologies focused next at an preparing methods technologies revolves divided creating The material. verify two acquainted three technologies help technologies processing. Throughout methods methods technologies help two outside methods technologies technologies two Throughout technologies regulations our technologies preparing technologies focused next computer around two vehicle outside help two outside was formulating into We regarding assist regulations both trip three an "
     ]
    }
   ],
   "source": [
    "s = vectext[:10]\n",
    "[print(_, end = ' ') for _ in s]\n",
    "print('*', end=' ')\n",
    "for i in range(100):\n",
    "    _x = yenc.transform(wordEnc.transform(s)).reshape(1, -1)\n",
    "    _y = wordEnc.classes_[o.predict_classes(_x)]\n",
    "    \n",
    "    print(_y[0], end = ' ')\n",
    "    \n",
    "    s.pop(0)\n",
    "    s += [_y[0]]\n"
   ]
  },
  {
   "cell_type": "code",
   "execution_count": 11,
   "metadata": {},
   "outputs": [],
   "source": [
    "#Generate a sequence of words by outputting a flat binary map, in the shape of a record of xb\n",
    "def createGenerator():\n",
    "    gen = Sequential()\n",
    "    gen.add(Dense(48, input_shape = (8,), activation = 'relu'))\n",
    "    gen.add(Dense(128, activation = 'relu'))\n",
    "    gen.add(Dropout(0.2))\n",
    "    gen.add(Dense(256, activation = 'relu'))\n",
    "    gen.add(Dense(512, activation = 'relu'))\n",
    "    gen.add(Dense(xb.shape[1], activation = 'relu'))\n",
    "    return gen"
   ]
  },
  {
   "cell_type": "code",
   "execution_count": 107,
   "metadata": {},
   "outputs": [],
   "source": [
    "batchsize = 800#xb.shape[0]\n",
    "def generatorBatch(gen):\n",
    "    gen_inp = np.abs(np.random.standard_normal((batchsize,8)))\n",
    "    gen_batch = gen.predict(gen_inp).reshape(batchsize, n, -1)\n",
    "    return gen_batch"
   ]
  },
  {
   "cell_type": "code",
   "execution_count": 13,
   "metadata": {},
   "outputs": [],
   "source": [
    "def createDescriminator():\n",
    "    des = Sequential()\n",
    "    des.add(Dense(xb.shape[1], input_shape = (xb.shape[1], ), activation = 'relu'))\n",
    "    des.add(Dense(512, activation = 'relu'))\n",
    "    des.add(Dense(128, activation = 'relu'))\n",
    "    #des.add(Dense(2, activation = 'softmax'))\n",
    "    des.add(Dense(1, activation = 'tanh'))\n",
    "    initial_learningrate = 0.02\n",
    "    _sgd = SGD(lr = initial_learningrate)\n",
    "    des.compile(loss = \"mse\", optimizer = _sgd, metrics=[\"accuracy\"])\n",
    "    return des"
   ]
  },
  {
   "cell_type": "code",
   "execution_count": 108,
   "metadata": {},
   "outputs": [],
   "source": [
    "def genDesTrainingInp(gen_batch):\n",
    "    des_X = np.array([xb, gen_batch.reshape(batchsize, -1)]).reshape(-1, xb.shape[1])\n",
    "    des_Y = np.array([1]*xb.shape[0] + [-1]*gen_batch.shape[0])\n",
    "    return des_X, des_Y"
   ]
  },
  {
   "cell_type": "code",
   "execution_count": 15,
   "metadata": {},
   "outputs": [],
   "source": [
    "def fullBatch():\n",
    "    full_X = np.abs(np.random.standard_normal((batchsize,8)))\n",
    "    full_Y = np.array([1]*batchsize) #[[0, 1]] was not working???\n",
    "    return full_X, full_Y"
   ]
  },
  {
   "cell_type": "code",
   "execution_count": 16,
   "metadata": {},
   "outputs": [],
   "source": [
    "def decodeResult(val):\n",
    "    enc = yenc.inverse_transform(val)\n",
    "    return wordEnc.inverse_transform(enc)"
   ]
  },
  {
   "cell_type": "code",
   "execution_count": 26,
   "metadata": {},
   "outputs": [
    {
     "name": "stdout",
     "output_type": "stream",
     "text": [
      "hold on tight...\n",
      "Before:\n"
     ]
    },
    {
     "name": "stderr",
     "output_type": "stream",
     "text": [
      "/home/mkeays/anaconda3/lib/python3.6/site-packages/sklearn/preprocessing/label.py:151: DeprecationWarning: The truth value of an empty array is ambiguous. Returning False, but in future this will result in an error. Use `array.size > 0` to check that an array is not empty.\n",
      "  if diff:\n"
     ]
    },
    {
     "name": "stdout",
     "output_type": "stream",
     "text": [
      "['group' 'developed' 'making' 'own' 'standards' 'learning' 'digging'\n",
      " 'next' 'making' 'finding']\n",
      "================EPOCH #0================\n",
      "Epoch 1/2\n",
      "2074/2074 [==============================] - 17s 8ms/step - loss: 0.6042 - acc: 0.0554\n",
      "Epoch 2/2\n",
      "2074/2074 [==============================] - 16s 8ms/step - loss: 0.1316 - acc: 0.9253\n",
      "Epoch 1/2\n",
      "1037/1037 [==============================] - 13s 12ms/step - loss: 0.6434 - acc: 9.6432e-04\n",
      "Epoch 2/2\n",
      "1037/1037 [==============================] - 12s 12ms/step - loss: 0.2147 - acc: 0.7030\n",
      "================EPOCH #1================\n",
      "Epoch 1/2\n",
      "2074/2074 [==============================] - 19s 9ms/step - loss: 0.0356 - acc: 0.9990\n",
      "Epoch 2/2\n",
      "2074/2074 [==============================] - 19s 9ms/step - loss: 0.0193 - acc: 0.9995\n",
      "Epoch 1/2\n",
      " 256/1037 [======>.......................] - ETA: 1:39 - loss: 0.8957 - acc: 0.0000e+00"
     ]
    },
    {
     "name": "stderr",
     "output_type": "stream",
     "text": [
      "/home/mkeays/anaconda3/lib/python3.6/site-packages/keras/callbacks.py:120: UserWarning: Method on_batch_end() is slow compared to the batch update (1.535854). Check your callbacks.\n",
      "  % delta_t_median)\n"
     ]
    },
    {
     "name": "stdout",
     "output_type": "stream",
     "text": [
      "1037/1037 [==============================] - 42s 41ms/step - loss: 0.5598 - acc: 0.0492\n",
      "Epoch 2/2\n",
      "1037/1037 [==============================] - 11s 11ms/step - loss: 0.1380 - acc: 0.9614\n",
      "After:\n",
      "['group' 'use' 'making' 'old' 'standards' 'learning' 'an' 'next' 'later'\n",
      " 'finding']\n"
     ]
    },
    {
     "name": "stderr",
     "output_type": "stream",
     "text": [
      "/home/mkeays/anaconda3/lib/python3.6/site-packages/sklearn/preprocessing/label.py:151: DeprecationWarning: The truth value of an empty array is ambiguous. Returning False, but in future this will result in an error. Use `array.size > 0` to check that an array is not empty.\n",
      "  if diff:\n"
     ]
    }
   ],
   "source": [
    "full_history = []\n",
    "big_epoch, m_epochs = 2, 2\n",
    "print('hold on tight...')\n",
    "g = createGenerator()\n",
    "d = createDescriminator()\n",
    "\n",
    "print('Before:')\n",
    "print(decodeResult(g.predict([[[1,2,3,4,5,6,7,0]]]).reshape(10, -1)))\n",
    "\n",
    "for i in range(big_epoch):\n",
    "    print('================EPOCH #{}================'.format(i))\n",
    "    batch = generatorBatch(g)\n",
    "    tx, ty = genDesTrainingInp(batch)\n",
    "\n",
    "    full_history += [d.fit(tx, ty, epochs=m_epochs, batch_size=76)]\n",
    "\n",
    "    x, y = fullBatch()\n",
    "    g.add(keras.models.clone_model(d))\n",
    "    initial_learningrate = 0.01\n",
    "    _sgd = SGD(lr = initial_learningrate)\n",
    "    g.compile(loss = \"mse\", optimizer = _sgd, metrics=[\"accuracy\"])\n",
    "    full_history += [g.fit(x, y, epochs=m_epochs, batch_size=128)]\n",
    "    g.pop()\n",
    "results = generatorBatch(g)\n",
    "\n",
    "print('After:')\n",
    "print(decodeResult(g.predict([[[1,2,3,4,5,6,7,0]]]).reshape(10, -1)))"
   ]
  },
  {
   "cell_type": "code",
   "execution_count": 35,
   "metadata": {},
   "outputs": [
    {
     "data": {
      "text/plain": [
       "<bound method Variable.read_value of <tf.Variable 'SGD_6/lr:0' shape=() dtype=float32_ref>>"
      ]
     },
     "execution_count": 35,
     "metadata": {},
     "output_type": "execute_result"
    }
   ],
   "source": [
    "d.optimizer.lr.read_value"
   ]
  },
  {
   "cell_type": "code",
   "execution_count": 106,
   "metadata": {},
   "outputs": [
    {
     "name": "stdout",
     "output_type": "stream",
     "text": [
      "individual SSD did tough classifying learning implementation. growing expectations. training "
     ]
    },
    {
     "name": "stderr",
     "output_type": "stream",
     "text": [
      "/home/mkeays/anaconda3/lib/python3.6/site-packages/sklearn/preprocessing/label.py:151: DeprecationWarning: The truth value of an empty array is ambiguous. Returning False, but in future this will result in an error. Use `array.size > 0` to check that an array is not empty.\n",
      "  if diff:\n"
     ]
    }
   ],
   "source": [
    "#[print(_, end=' ') for _ in decodeResult(g.predict([[[1,0,3.1,-2,4,6,29,7]]]).reshape(10, -1))]\n",
    "#print()\n",
    "[print(_, end=' ') for _ in decodeResult(g.predict(np.random.standard_normal((1, 8))).reshape(10, -1))]\n",
    "None"
   ]
  }
 ],
 "metadata": {
  "kernelspec": {
   "display_name": "Python 3",
   "language": "python",
   "name": "python3"
  },
  "language_info": {
   "codemirror_mode": {
    "name": "ipython",
    "version": 3
   },
   "file_extension": ".py",
   "mimetype": "text/x-python",
   "name": "python",
   "nbconvert_exporter": "python",
   "pygments_lexer": "ipython3",
   "version": "3.6.5"
  }
 },
 "nbformat": 4,
 "nbformat_minor": 2
}
